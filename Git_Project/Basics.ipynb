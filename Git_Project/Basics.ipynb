{
 "cells": [
  {
   "cell_type": "markdown",
   "metadata": {},
   "source": [
    "### team development\n",
    "- all solo dev stuff still applies\n",
    "- role assignments\n",
    "- primary braches organization\n",
    "- feature branches\n",
    "- hotfixes\n",
    "- feature branch rebases (periodic/final)\n",
    "- code promotion"
   ]
  },
  {
   "cell_type": "code",
   "execution_count": null,
   "metadata": {},
   "outputs": [],
   "source": []
  }
 ],
 "metadata": {
  "language_info": {
   "name": "python"
  },
  "orig_nbformat": 4
 },
 "nbformat": 4,
 "nbformat_minor": 2
}
