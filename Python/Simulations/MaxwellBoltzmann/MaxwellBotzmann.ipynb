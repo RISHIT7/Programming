{
 "cells": [
  {
   "cell_type": "code",
   "execution_count": 2,
   "metadata": {},
   "outputs": [],
   "source": [
    "import numpy as np \n",
    "import matplotlib.pyplot as plt\n",
    "import matplotlib\n",
    "from matplotlib import animation\n",
    "from matplotlib.animation import PillowWriter\n",
    "from itertools import combinations"
   ]
  },
  {
   "cell_type": "markdown",
   "metadata": {},
   "source": [
    "Define number of particles and get random position (between 0 and 1) for each particle"
   ]
  },
  {
   "cell_type": "code",
   "execution_count": 3,
   "metadata": {},
   "outputs": [],
   "source": [
    "n_particles = 400\n",
    "r = np.random.random((2, n_particles))"
   ]
  },
  {
   "cell_type": "code",
   "execution_count": 4,
   "metadata": {},
   "outputs": [],
   "source": [
    "# colouring the particles based on the initial direction of motion\n",
    "ixr = r[0] > 0.5 #right\n",
    "ixl = r[0] <= 0.5 #left\n"
   ]
  },
  {
   "cell_type": "markdown",
   "metadata": {},
   "source": [
    "Give IDs to each particle (this will come in handy later)"
   ]
  },
  {
   "cell_type": "code",
   "execution_count": 5,
   "metadata": {},
   "outputs": [],
   "source": [
    "ids = np.arange(n_particles)"
   ]
  },
  {
   "cell_type": "markdown",
   "metadata": {},
   "source": [
    "Plot initial configuration of particles"
   ]
  },
  {
   "cell_type": "code",
   "execution_count": 7,
   "metadata": {},
   "outputs": [
    {
     "data": {
      "text/plain": [
       "<matplotlib.collections.PathCollection at 0x297ace1cf10>"
      ]
     },
     "execution_count": 7,
     "metadata": {},
     "output_type": "execute_result"
    },
    {
     "data": {
      "image/png": "[encoded data removed]",
      "text/plain": [
       "<Figure size 500x500 with 1 Axes>"
      ]
     },
     "metadata": {},
     "output_type": "display_data"
    }
   ],
   "source": [
    "plt.figure(figsize=(5, 5))\n",
    "plt.scatter(r[0][ixr], r[1][ixr], color='r', s=6)\n",
    "plt.scatter(r[0][ixl], r[1][ixl], color='b', s=6)"
   ]
  },
  {
   "cell_type": "markdown",
   "metadata": {},
   "source": [
    "Obtain the initial velocities in the gas. We'll make the particles starting on the RHS move to the left at 500m/s and on the vice versa.\n",
    "\n",
    "- __Note__: We're using the assumption that particles in a gas move at approximately 500m/s"
   ]
  },
  {
   "cell_type": "code",
   "execution_count": 9,
   "metadata": {},
   "outputs": [],
   "source": [
    "v = np.zeros((2, n_particles))\n",
    "v[0][ixr] = -500\n",
    "v[0][ixl] = 500"
   ]
  },
  {
   "cell_type": "markdown",
   "metadata": {},
   "source": [
    "To run this simulation, we need to determine when two particles collide, and what the resulting final velocities will be"
   ]
  },
  {
   "cell_type": "markdown",
   "metadata": {},
   "source": [
    "## Part 1: Distance Between all Pairs\n",
    "- To determine if two particles collide, we need to find the distance between __all pairs__ of particles. If the distance is less than 2 times radius of each particle, they collide. If there are n particles, there are $n(n-1)/2$ pairs (combinatorics). To make this easier, we'll get pairs of particle IDs."
   ]
  },
  {
   "cell_type": "code",
   "execution_count": 10,
   "metadata": {},
   "outputs": [],
   "source": [
    "ids_pairs = np.asarray(list(combinations(ids, 2)))"
   ]
  },
  {
   "cell_type": "markdown",
   "metadata": {},
   "source": [
    "We can obtain distances between particles in a similar fashion\n",
    "- First get the pairs of x-position of all particles"
   ]
  },
  {
   "cell_type": "code",
   "execution_count": 11,
   "metadata": {},
   "outputs": [],
   "source": [
    "x_pairs = np.asarray(list(combinations(r[0], 2)))"
   ]
  },
  {
   "cell_type": "markdown",
   "metadata": {},
   "source": [
    "- then take the difference to get $\\Delta x_{ij}$ of all pairs"
   ]
  },
  {
   "cell_type": "code",
   "execution_count": 13,
   "metadata": {},
   "outputs": [],
   "source": [
    "dx_pairs = np.diff(x_pairs, axis=1).ravel()"
   ]
  },
  {
   "cell_type": "markdown",
   "metadata": {},
   "source": [
    "The total distance is just $d_{ij} = \\sqrt{\\Delta x^2_{ij} + \\Delta y^2_{ij}}$. Since there are $n(n-1)/2$ different values of $d_{ij}$"
   ]
  },
  {
   "cell_type": "code",
   "execution_count": 17,
   "metadata": {},
   "outputs": [],
   "source": [
    "x_pairs = np.asarray(list(combinations(r[0], 2)))\n",
    "y_pairs = np.asarray(list(combinations(r[1], 2)))\n",
    "\n",
    "dx_pairs = np.diff(x_pairs, axis=1).ravel()\n",
    "dy_pairs = np.diff(y_pairs, axis=1).ravel()\n",
    "\n",
    "d_pairs = np.sqrt(dx_pairs**2 + dy_pairs**2)"
   ]
  },
  {
   "cell_type": "markdown",
   "metadata": {},
   "source": [
    "## Part 2: Velocities of a Collision\n",
    "So at each iteration of the simulation, we will evaluate d_pairs, and if any of the distances between particles is less than 2r, then a collision occurs, What is the final velocity of each of the two spheres? In an elastic collision one can show\n",
    "$$\\vec{v_1} = \\vec{u_1} - \\frac{(\\vec{u_1} - \\vec{u_2})\\cdot(\\vec{r_1} - \\vec{r_2})}{|\\vec{r_1} - \\vec{r_2}|^2} (\\vec{r_1} - \\vec{r_2})$$\n",
    "\n",
    "$$\\vec{v_2} = \\vec{u_2} - \\frac{(\\vec{u_2} - \\vec{u_1})\\cdot(\\vec{r_2} - \\vec{r_1})}{|\\vec{r_1} - \\vec{r_2}|^2} (\\vec{r_2} - \\vec{r_1})$$"
   ]
  },
  {
   "cell_type": "code",
   "execution_count": 19,
   "metadata": {},
   "outputs": [],
   "source": [
    "radius = 0.06\n",
    "ids_pairs_collide = ids_pairs[d_pairs < 2*radius]"
   ]
  },
  {
   "cell_type": "markdown",
   "metadata": {},
   "source": [
    "We will call all the particles in the left column \"1\" and the right column \"2\""
   ]
  },
  {
   "cell_type": "code",
   "execution_count": 20,
   "metadata": {},
   "outputs": [],
   "source": [
    "v1 = v[:, ids_pairs_collide[:, 0]]\n",
    "v2 = v[:, ids_pairs_collide[:, 1]]\n",
    "r1 = r[:, ids_pairs_collide[:, 0]]\n",
    "r2 = r[:, ids_pairs_collide[:, 1]]"
   ]
  },
  {
   "cell_type": "markdown",
   "metadata": {},
   "source": [
    "Then we compute the new velocity"
   ]
  },
  {
   "cell_type": "code",
   "execution_count": 21,
   "metadata": {},
   "outputs": [],
   "source": [
    "v1new = v1 - np.diag((v1-v2).T@(r1-r2))/np.sum((r1-r2)**2, axis=0) * (r1-r2)\n",
    "\n",
    "v2new = v2 - np.diag((v2-v1).T@(r2-r1))/np.sum((r1-r2)**2, axis=0) * (r2-r1)"
   ]
  },
  {
   "cell_type": "markdown",
   "metadata": {},
   "source": [
    "## Part 3: Functions to Run the Simulation\n",
    "Here we define some function that will help make running the simulation easier\n"
   ]
  },
  {
   "cell_type": "code",
   "execution_count": 39,
   "metadata": {},
   "outputs": [],
   "source": [
    "def get_delta_pairs(x):\n",
    "    return np.diff(np.asarray(list(combinations(x,2))), axis=1).ravel()\n",
    "\n",
    "def get_deltad_pairs(r):\n",
    "    return np.sqrt(get_delta_pairs(r[0])**2 + get_delta_pairs(r[1])**2)\n",
    "\n",
    "def compute_new_v(v1, v2, r1, r2):\n",
    "    v1new = v1 - np.diag((v1-v2).T@(r1-r2))/np.sum((r1-r2)**2, axis=0) * (r1-r2)\n",
    "    v2new = v2 - np.diag((v2-v1).T@(r2-r1))/np.sum((r2-r1)**2, axis=0) * (r2-r1)\n",
    "    return v1new, v2new\n",
    "\n",
    "def motion(r, v, id_pairs, ts, dt, d_cutoff):\n",
    "    rs = np.zeros((ts, r.shape[0], r.shape[1]))\n",
    "    vs = np.zeros((ts, v.shape[0], v.shape[1]))\n",
    "    # Initial State\n",
    "    rs[0] = r.copy()\n",
    "    vs[0] = v.copy()\n",
    "    for i in range(1,ts):\n",
    "        ic = id_pairs[get_deltad_pairs(r) < d_cutoff]\n",
    "        v[:,ic[:,0]], v[:,ic[:,1]] = compute_new_v(v[:,ic[:,0]], v[:,ic[:,1]], r[:,ic[:,0]], r[:,ic[:,1]])\n",
    "        \n",
    "        v[0,r[0]>1] = -np.abs(v[0,r[0]>1])\n",
    "        v[0,r[0]<0] = np.abs(v[0,r[0]<0])\n",
    "        v[1,r[1]>1] = -np.abs(v[1,r[1]>1])\n",
    "        v[1,r[1]<0] = np.abs(v[1,r[1]<0])\n",
    "        \n",
    "        r = r + v*dt\n",
    "        rs[i] = r.copy()\n",
    "        vs[i] = v.copy()\n",
    "    return rs, vs"
   ]
  },
  {
   "cell_type": "markdown",
   "metadata": {},
   "source": [
    "Set the radius and find the position of all particles as a function of time (3D array rs where each axis is $(t, x, y)$)"
   ]
  }
 ],
 "metadata": {
  "kernelspec": {
   "display_name": "Python 3.10.8 64-bit (microsoft store)",
   "language": "python",
   "name": "python3"
  },
  "language_info": {
   "codemirror_mode": {
    "name": "ipython",
    "version": 3
   },
   "file_extension": ".py",
   "mimetype": "text/x-python",
   "name": "python",
   "nbconvert_exporter": "python",
   "pygments_lexer": "ipython3",
   "version": "3.10.8"
  },
  "orig_nbformat": 4,
  "vscode": {
   "interpreter": {
    "hash": "02574bea12815e0b9afd0ecc13f0c7c2150d38e5da6563144d2b59b5961010a9"
   }
  }
 },
 "nbformat": 4,
 "nbformat_minor": 2
}
