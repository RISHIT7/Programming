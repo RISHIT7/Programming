{
 "cells": [
  {
   "cell_type": "markdown",
   "metadata": {},
   "source": [
    "R - funct7[7] rs2[5] rs1[5] funct3[3] rd[5] opcode[7] \\\n",
    "I - immediate[12]    rs1[5] funct3[3] rd[5] opcode[7] \\\n",
    "S - imm[11:5] rs2[5] rs1[5] funct3[3] imm[4:0] opcode[7] \\\n",
    "SB - imm[10:4] rs2[5] rs1[5] funct3[3] imm[3:0, 11] opcode[7] \\\n",
    "U - imm[20] rd[5] opcode[7] \\\n",
    "UJ - imm[20] rd[5] opcode[7] "
   ]
  },
  {
   "cell_type": "markdown",
   "metadata": {},
   "source": [
    "## PC"
   ]
  },
  {
   "cell_type": "markdown",
   "metadata": {},
   "source": [
    "output = input + 1"
   ]
  },
  {
   "cell_type": "markdown",
   "metadata": {},
   "source": [
    "## Instruction Memory"
   ]
  },
  {
   "cell_type": "markdown",
   "metadata": {},
   "source": [
    "input = program counter \\\n",
    "output = instruction"
   ]
  },
  {
   "cell_type": "markdown",
   "metadata": {},
   "source": [
    "## Register"
   ]
  },
  {
   "cell_type": "markdown",
   "metadata": {},
   "source": [
    "input = (Data, Register#, Register#, Register#) -> (data, rs1, rs2, rd) from the RISC V fields \\\n",
    "output = (Register Data, Register Data)"
   ]
  },
  {
   "cell_type": "markdown",
   "metadata": {},
   "source": [
    "## Data Memory"
   ]
  },
  {
   "cell_type": "markdown",
   "metadata": {},
   "source": [
    "input = (Address, Data) for store operations \\\n",
    "output = (Data) for load operations"
   ]
  },
  {
   "cell_type": "markdown",
   "metadata": {},
   "source": [
    "## ALU"
   ]
  },
  {
   "cell_type": "markdown",
   "metadata": {},
   "source": [
    "input = (input1, input2) \\\n",
    "output = Result"
   ]
  },
  {
   "cell_type": "markdown",
   "metadata": {},
   "source": [
    "## MUX"
   ]
  },
  {
   "cell_type": "markdown",
   "metadata": {},
   "source": [
    "input = (input1, input2, select) \\\n",
    "output = Output"
   ]
  },
  {
   "cell_type": "markdown",
   "metadata": {},
   "source": [
    "## Control Signals"
   ]
  },
  {
   "cell_type": "markdown",
   "metadata": {},
   "source": [
    "input = instruction \\\n",
    "output = a bunch of magic control signals "
   ]
  },
  {
   "cell_type": "markdown",
   "metadata": {},
   "source": []
  }
 ],
 "metadata": {
  "kernelspec": {
   "display_name": "Python 3.10.8 64-bit (microsoft store)",
   "language": "python",
   "name": "python3"
  },
  "language_info": {
   "codemirror_mode": {
    "name": "ipython",
    "version": 3
   },
   "file_extension": ".py",
   "mimetype": "text/x-python",
   "name": "python",
   "nbconvert_exporter": "python",
   "pygments_lexer": "ipython3",
   "version": "3.9.13"
  },
  "orig_nbformat": 4,
  "vscode": {
   "interpreter": {
    "hash": "02574bea12815e0b9afd0ecc13f0c7c2150d38e5da6563144d2b59b5961010a9"
   }
  }
 },
 "nbformat": 4,
 "nbformat_minor": 2
}
