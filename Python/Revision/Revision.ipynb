{
 "cells": [
  {
   "cell_type": "markdown",
   "metadata": {},
   "source": [
    "# markdown"
   ]
  },
  {
   "cell_type": "code",
   "execution_count": 2,
   "metadata": {},
   "outputs": [
    {
     "data": {
      "text/plain": [
       "(array([[  1,   5,   3],\n",
       "        [  4,  77,   6],\n",
       "        [  7, 134,   9],\n",
       "        [  4,   4,   4]]),\n",
       " array([1, 2, 3, 5]))"
      ]
     },
     "execution_count": 2,
     "metadata": {},
     "output_type": "execute_result"
    }
   ],
   "source": [
    "import numpy as np\n",
    "from sklearn.datasets import make_regression\n",
    " \n",
    "# Create data set.\n",
    "X = np.array([[1, 5, 3], [4, 77, 6], [7, 134, 9], [4, 4, 4]])\n",
    "y = np.array([1, 2 ,3, 5])\n",
    "X, y"
   ]
  },
  {
   "cell_type": "code",
   "execution_count": 3,
   "metadata": {},
   "outputs": [
    {
     "name": "stdout",
     "output_type": "stream",
     "text": [
      "[[  1   5   3]\n",
      " [  4  77   6]\n",
      " [  7 134   9]\n",
      " [  4   4   4]]\n",
      "[[  1.   1.   5.   3.]\n",
      " [  1.   4.  77.   6.]\n",
      " [  1.   7. 134.   9.]\n",
      " [  1.   4.   4.   4.]]\n",
      "[[4.0000e+00 1.6000e+01 2.2000e+02 2.2000e+01]\n",
      " [1.6000e+01 8.2000e+01 1.2670e+03 1.0600e+02]\n",
      " [2.2000e+02 1.2670e+03 2.3926e+04 1.6990e+03]\n",
      " [2.2000e+01 1.0600e+02 1.6990e+03 1.4200e+02]]\n",
      "[ 3.66666667e+00  1.83333333e+00 -2.12899118e-14 -1.50000000e+00]\n"
     ]
    }
   ],
   "source": [
    "def linear_regression_normal_equation(X, y):\n",
    "    X_transpose = np.transpose(X)\n",
    "    X_transpose_X = np.dot(X_transpose, X)\n",
    "    X_transpose_y = np.dot(X_transpose, y)\n",
    "    print(X_transpose_X)\n",
    "    try:\n",
    "        theta = np.linalg.solve(X_transpose_X, X_transpose_y)\n",
    "        return theta\n",
    "    except np.linalg.LinAlgError:\n",
    "        return None\n",
    " \n",
    " \n",
    "# Add a column of ones to X for the intercept term\n",
    "print(X)\n",
    "X_with_intercept = np.c_[np.ones((X.shape[0], 1)), X]\n",
    "print(X_with_intercept)\n",
    " \n",
    "theta = linear_regression_normal_equation(X_with_intercept, y)\n",
    "if theta is not None:\n",
    "    print(theta)\n",
    "else:\n",
    "    print(\"Unable to compute theta. The matrix X_transpose_X is singular.\")"
   ]
  },
  {
   "cell_type": "code",
   "execution_count": null,
   "metadata": {},
   "outputs": [],
   "source": []
  },
  {
   "cell_type": "code",
   "execution_count": null,
   "metadata": {},
   "outputs": [],
   "source": []
  }
 ],
 "metadata": {
  "kernelspec": {
   "display_name": "Python 3.10.8 64-bit (microsoft store)",
   "language": "python",
   "name": "python3"
  },
  "language_info": {
   "codemirror_mode": {
    "name": "ipython",
    "version": 3
   },
   "file_extension": ".py",
   "mimetype": "text/x-python",
   "name": "python",
   "nbconvert_exporter": "python",
   "pygments_lexer": "ipython3",
   "version": "3.9.13"
  },
  "orig_nbformat": 4,
  "vscode": {
   "interpreter": {
    "hash": "02574bea12815e0b9afd0ecc13f0c7c2150d38e5da6563144d2b59b5961010a9"
   }
  }
 },
 "nbformat": 4,
 "nbformat_minor": 2
}
