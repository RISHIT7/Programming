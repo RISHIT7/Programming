{
 "cells": [
  {
   "cell_type": "markdown",
   "metadata": {},
   "source": [
    "A 5\n",
    "B 7\n",
    "\n",
    "E 15\n",
    "F 13\n",
    "\n",
    "A 0\n",
    "B 0\n",
    "\n",
    "E 9 + 2'a' +'b' \\\n",
    "F 8 + 'a' + 'b'"
   ]
  },
  {
   "cell_type": "markdown",
   "metadata": {},
   "source": [
    "A - 0\n",
    "B - 0\n",
    "\n",
    "C - 2 + A\n",
    "\n",
    "D - 4 + C + B\n",
    "\n",
    "E - 9 + A, 9 + B, 9 + A, 9 + B \\\n",
    "F - 8 + A, 8 + B, 8 + B, 8 + A"
   ]
  },
  {
   "cell_type": "code",
   "execution_count": null,
   "metadata": {},
   "outputs": [],
   "source": []
  }
 ],
 "metadata": {
  "language_info": {
   "name": "python"
  },
  "orig_nbformat": 4
 },
 "nbformat": 4,
 "nbformat_minor": 2
}
