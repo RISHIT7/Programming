{
 "cells": [
  {
   "cell_type": "markdown",
   "metadata": {},
   "source": [
    "Chat GPT's code for input->circuit"
   ]
  },
  {
   "cell_type": "code",
   "execution_count": 87,
   "metadata": {},
   "outputs": [],
   "source": [
    "# class Gate:\n",
    "#     def __init__(self, gate_type, inputs, output):\n",
    "#         self.gate_type = gate_type\n",
    "#         self.inputs = inputs\n",
    "#         self.output = output\n",
    "\n",
    "\n",
    "# def parse_input(input_str):\n",
    "#     lines = input_str.strip().split('\\n')\n",
    "    \n",
    "#     primary_inputs = lines[0].split()[1:]\n",
    "#     primary_outputs = lines[1].split()[1:]\n",
    "#     internal_signals = lines[2].split()[1:]\n",
    "    \n",
    "#     gates = []\n",
    "#     for line in lines[3:]:\n",
    "#         tokens = line.split()\n",
    "#         gate_type = tokens[0]\n",
    "#         inputs = tokens[1:-1]\n",
    "#         output = tokens[-1]\n",
    "#         gates.append(Gate(gate_type, inputs, output))\n",
    "    \n",
    "#     return primary_inputs, primary_outputs, internal_signals, gates\n",
    "\n",
    "\n",
    "# def generate_circuit(primary_inputs, primary_outputs, internal_signals, gates):\n",
    "#     circuit = \"\"\n",
    "    \n",
    "#     circuit += \"Inputs: {}\\n\".format(\", \".join(primary_inputs))\n",
    "#     circuit += \"Outputs: {}\\n\".format(\", \".join(primary_outputs))\n",
    "    \n",
    "#     for gate in gates:\n",
    "#         inputs = \", \".join(gate.inputs)\n",
    "#         circuit += \"{}: {} -> {}\\n\".format(gate.gate_type, inputs, gate.output)\n",
    "    \n",
    "#     return circuit\n",
    "\n",
    "\n",
    "# input_spice = \"\"\"\n",
    "# PRIMARY_INPUTS A B\n",
    "# PRIMARY_OUTPUTS E F\n",
    "# INTERNAL_SIGNALS C D\n",
    "# INV A C\n",
    "# AND2 C B D\n",
    "# NAND2 C D E\n",
    "# INV D F\n",
    "# \"\"\"\n",
    "\n",
    "# primary_inputs, primary_outputs, internal_signals, gates = parse_input(input_spice)\n",
    "# circuit_representation = generate_circuit(primary_inputs, primary_outputs, internal_signals, gates)\n",
    "\n",
    "# print(circuit_representation)\n"
   ]
  },
  {
   "cell_type": "markdown",
   "metadata": {},
   "source": [
    "Chat GPT-> for time delay"
   ]
  },
  {
   "cell_type": "code",
   "execution_count": 88,
   "metadata": {},
   "outputs": [],
   "source": [
    "# class Gate: # struct gate\n",
    "#     def __init__(self, gate_type, inputs, output):\n",
    "#         self.gate_type = gate_type\n",
    "#         self.inputs = inputs\n",
    "#         self.output = output\n",
    "\n",
    "#     def print(self):\n",
    "#         print(f\"This is a {self.gate_type}\\nThe inputs to this gate are {self.inputs}\\nThe output of this gate is {self.output}\")\n",
    "\n",
    "# def parse_input(input_str):\n",
    "#     lines = input_str.strip().split('\\n')\n",
    "    \n",
    "#     primary_inputs = lines[0].split()[1:]\n",
    "#     primary_outputs = lines[1].split()[1:]\n",
    "#     internal_signals = lines[2].split()[1:]\n",
    "    \n",
    "#     gates = []\n",
    "#     for line in lines[3:]:\n",
    "#         tokens = line.split()\n",
    "#         gate_type = tokens[0]\n",
    "#         inputs = tokens[1:-1]\n",
    "#         output = tokens[-1]\n",
    "#         gates.append(Gate(gate_type, inputs, output))\n",
    "    \n",
    "#     return primary_inputs, primary_outputs, internal_signals, gates\n",
    "\n",
    "# def parse_gate_delays(gate_delay_str):\n",
    "#     gate_delays = {}\n",
    "#     lines = gate_delay_str.strip().split('\\n')\n",
    "#     for line in lines:\n",
    "#         tokens = line.split()\n",
    "#         gate_type = tokens[0]\n",
    "#         delay = float(tokens[1])\n",
    "#         gate_delays[gate_type] = delay\n",
    "#     return gate_delays\n",
    "\n",
    "# def compute_output_delay(gate, gate_map, gate_delays, delay_cache):\n",
    "#     if gate.output in delay_cache:\n",
    "#         return delay_cache[gate.output]\n",
    "\n",
    "#     max_input_delay = 0\n",
    "#     for input in gate.inputs:\n",
    "#         input_gate = input.gate_type\n",
    "#         input_delay = compute_output_delay(input_gate, gate_map, gate_delays, delay_cache)\n",
    "#         max_input_delay = max(max_input_delay, input_delay)\n",
    "    \n",
    "#     gate_delay = gate_delays[gate.gate_type]\n",
    "#     output_delay = max_input_delay + gate_delay\n",
    "#     delay_cache[gate.output] = output_delay\n",
    "#     return output_delay\n",
    "\n",
    "# def compute_output_delays(primary_outputs, gates, gate_map, gate_delays):\n",
    "#     output_delays = {}\n",
    "#     delay_cache = {}\n",
    "\n",
    "#     for output_signal in primary_outputs:\n",
    "#         output_gate = gate_map[output_signal]\n",
    "#         output_delay = compute_output_delay(output_gate, gate_map, gate_delays, delay_cache)\n",
    "#         output_delays[output_signal] = output_delay\n",
    "    \n",
    "#     return output_delays\n",
    "\n",
    "# input_spice = \"\"\"\n",
    "# PRIMARY_INPUTS A B\n",
    "# PRIMARY_OUTPUTS E F\n",
    "# INTERNAL_SIGNALS C D\n",
    "# INV A C\n",
    "# AND2 C B D\n",
    "# NAND2 C D E\n",
    "# INV D F\n",
    "# \"\"\"\n",
    "\n",
    "# gate_delay_str = \"\"\"\n",
    "# NAND2 3\n",
    "# AND2 4\n",
    "# NOR2 3.5\n",
    "# OR2 4.5\n",
    "# INV 2\n",
    "# \"\"\"\n",
    "\n",
    "# primary_inputs, primary_outputs, internal_signals, gates = parse_input(input_spice) # gates => struct of each gate\n",
    "# gate_delays = parse_gate_delays(gate_delay_str) # dict of gates and time delays\n",
    "# gate_map = {gate.output: gate for gate in gates}\n",
    "\n",
    "# output_delays = compute_output_delays(primary_outputs, gates, gate_map, gate_delays)\n",
    "\n",
    "# # Print or write the output delays to a file\n",
    "# for output_signal, delay in output_delays.items():\n",
    "#     print(\"Primary Output:\", output_signal)\n",
    "#     print(\"Delay:\", delay)\n"
   ]
  },
  {
   "cell_type": "markdown",
   "metadata": {},
   "source": [
    "My Implementation"
   ]
  },
  {
   "cell_type": "code",
   "execution_count": 89,
   "metadata": {},
   "outputs": [],
   "source": [
    "class Gate:\n",
    "    def __init__(self, gate_type, delay, inputs, output):\n",
    "        self.gate_type = gate_type\n",
    "        self.delay = delay\n",
    "        self.prev = []\n",
    "        self.inputs = inputs\n",
    "        self.output = output\n",
    "    \n",
    "    def print_attr(self):\n",
    "        print(f\"This is a {self.gate_type}\\nThe inputs to this gate are {self.inputs}\\nThe output of this gate is {self.output}\\nThe Delay for the gate is {self.delay}\\n\")\n",
    "\n",
    "    def print(self):\n",
    "        print(f\"{self.inputs} --> {self.gate_type} in {self.delay}sec --> {self.output} \")\n",
    "        \n",
    "def find_prev(gates, input_signal) -> Gate:\n",
    "    # input_signal is a single string that consists of one of the input signals\n",
    "    # gates is the list of Gate(s), gate.output is a single string that gives the output of the gate\n",
    "    for gate in gates:\n",
    "        #gate.print()\n",
    "        if (input_signal == gate.output): # if the input is primary, this returns null, so check for it previously\n",
    "            return gate\n",
    "    \n",
    "def check_primary_input(primary_inputs, input_signal) -> bool:\n",
    "    if (input_signal in primary_inputs):\n",
    "        return True\n",
    "    return False\n",
    "\n",
    "# def connect_two_nodes(gate, gates, primary_inputs):\n",
    "#     for i, input in enumerate(gate.inputs):\n",
    "#         if (not check_primary_input(primary_inputs, input)):\n",
    "#             prev_gate = find_prev(gates, input, primary_inputs)\n",
    "#             new_input = gate.inputs[:i] + gate.inputs[i+1:] + prev_gate.inputs # new inputs list\n",
    "\n",
    "def update(gates, primary_outputs, primary_inputs):\n",
    "    pass\n",
    "\n",
    "def find_all_prev(gates, gate, primary_inputs):\n",
    "    # prev_gates is a list of all previous gates\n",
    "    prev_gates = []\n",
    "    input_data = gate.inputs\n",
    "    for input in input_data:\n",
    "        if (input not in primary_inputs):\n",
    "            prev_gate = find_prev(gates, input)\n",
    "            prev_gates.append(prev_gate)\n",
    "    gate.prev = prev_gates\n",
    "    return prev_gates\n",
    "\n",
    "\n",
    "def parse_input(input_spice, gate_delay_str):\n",
    "    lines = input_spice.strip().split('\\n') # list that breaks the input into elements \n",
    "    delays_list = gate_delay_str.strip().split('\\n') # list that breaks the delays into elements\n",
    "    delays_dict = {} # dict for later use {gate_type: delay}\n",
    "    for gate_delays in delays_list:\n",
    "        temp = gate_delays.split(\" \")\n",
    "        gate = temp[0]\n",
    "        delay = temp[1]\n",
    "        delays_dict[gate] = float(delay)\n",
    "\n",
    "    primary_inputs = lines[0].split()[1:]\n",
    "    primary_outputs = lines[1].split()[1:]\n",
    "    internal_signals = lines[2].split()[1:]\n",
    "    \n",
    "    gates = []  # array of Gate(s)\n",
    "    for line in lines[3:]:\n",
    "        tokens = line.split()\n",
    "        gate_type = tokens[0]\n",
    "        inputs = tokens[1:-1]\n",
    "        output = tokens[-1]\n",
    "        gates.append(Gate(gate_type, delays_dict[gate_type], inputs, output))\n",
    "    \n",
    "    # primary_inputs is an array of primary inputs\n",
    "    # primary_outputs is an array of primary outputs\n",
    "    # internal_signals is an array of internal signals\n",
    "    # the array of gates\n",
    "    return primary_inputs, primary_outputs, internal_signals, gates\n",
    "\n",
    "\n",
    "input_spice = \"\"\"\n",
    "PRIMARY_INPUTS A B\n",
    "PRIMARY_OUTPUTS E F\n",
    "INTERNAL_SIGNALS C D\n",
    "INV A C\n",
    "AND2 C B D\n",
    "NAND2 C D E\n",
    "INV D F\n",
    "\"\"\"\n",
    "\n",
    "gate_delay_str = \"\"\"\n",
    "NAND2 3\n",
    "AND2 4\n",
    "NOR2 3.5\n",
    "OR2 4.5\n",
    "INV 2\n",
    "\"\"\""
   ]
  },
  {
   "cell_type": "markdown",
   "metadata": {},
   "source": [
    "### Checking Parse Input"
   ]
  },
  {
   "cell_type": "code",
   "execution_count": 90,
   "metadata": {},
   "outputs": [
    {
     "name": "stdout",
     "output_type": "stream",
     "text": [
      "['A'] --> INV in 2.0sec --> C \n",
      "['C', 'B'] --> AND2 in 4.0sec --> D \n",
      "['C', 'D'] --> NAND2 in 3.0sec --> E \n",
      "['D'] --> INV in 2.0sec --> F \n"
     ]
    }
   ],
   "source": [
    "primary_inputs, primary_outputs, internal_signals, gates = parse_input(input_spice, gate_delay_str)\n",
    "\n",
    "for gate in gates:\n",
    "    # gate.print_attr()\n",
    "    gate.print()"
   ]
  },
  {
   "cell_type": "markdown",
   "metadata": {},
   "source": [
    "### Check primary input"
   ]
  },
  {
   "cell_type": "code",
   "execution_count": 91,
   "metadata": {},
   "outputs": [
    {
     "name": "stdout",
     "output_type": "stream",
     "text": [
      "A is in primary input True\n",
      "C is in primary input False\n"
     ]
    }
   ],
   "source": [
    "primary_inputs  = [\"A\", \"B\"]\n",
    "check_A = check_primary_input(primary_inputs, \"A\")\n",
    "check_C = check_primary_input(primary_inputs, \"C\")\n",
    "print(f\"A is in primary input {check_A}\\nC is in primary input {check_C}\")"
   ]
  },
  {
   "cell_type": "markdown",
   "metadata": {},
   "source": [
    "### Find Prev"
   ]
  },
  {
   "cell_type": "code",
   "execution_count": 92,
   "metadata": {},
   "outputs": [
    {
     "name": "stdout",
     "output_type": "stream",
     "text": [
      "This is a INV\n",
      "The inputs to this gate are ['A']\n",
      "The output of this gate is C\n",
      "The Delay for the gate is 2.0\n",
      "\n",
      "This is a AND2\n",
      "The inputs to this gate are ['C', 'B']\n",
      "The output of this gate is D\n",
      "The Delay for the gate is 4.0\n",
      "\n",
      "This is a NAND2\n",
      "The inputs to this gate are ['C', 'D']\n",
      "The output of this gate is E\n",
      "The Delay for the gate is 3.0\n",
      "\n",
      "This is a INV\n",
      "The inputs to this gate are ['D']\n",
      "The output of this gate is F\n",
      "The Delay for the gate is 2.0\n",
      "\n"
     ]
    }
   ],
   "source": [
    "# find_prev(gates, \"A\", primary_inputs).print_attr()\n",
    "# find_prev(gates, \"B\", primary_inputs).print_attr()\n",
    "find_prev(gates, \"C\").print_attr()\n",
    "find_prev(gates, \"D\").print_attr()\n",
    "find_prev(gates, \"E\").print_attr()\n",
    "find_prev(gates, \"F\").print_attr()"
   ]
  },
  {
   "cell_type": "markdown",
   "metadata": {},
   "source": [
    "### Finding all previous gates of a gate"
   ]
  },
  {
   "cell_type": "code",
   "execution_count": 93,
   "metadata": {},
   "outputs": [
    {
     "name": "stdout",
     "output_type": "stream",
     "text": [
      "This is a AND2\n",
      "The inputs to this gate are ['C', 'B']\n",
      "The output of this gate is D\n",
      "The Delay for the gate is 4.0\n",
      "\n",
      "----------------------------------------------\n",
      "\n",
      "This is a INV\n",
      "The inputs to this gate are ['A']\n",
      "The output of this gate is C\n",
      "The Delay for the gate is 2.0\n",
      "\n"
     ]
    }
   ],
   "source": [
    "NUM = 1\n",
    "gates[NUM].print_attr()\n",
    "print(\"----------------------------------------------\\n\")\n",
    "prev_gates = find_all_prev(gates, gates[NUM], primary_inputs)\n",
    "for prev_gate in prev_gates:\n",
    "    prev_gate.print_attr()"
   ]
  },
  {
   "cell_type": "code",
   "execution_count": 94,
   "metadata": {},
   "outputs": [
    {
     "name": "stdout",
     "output_type": "stream",
     "text": [
      "This is a NAND2\n",
      "The inputs to this gate are ['C', 'D']\n",
      "The output of this gate is E\n",
      "The Delay for the gate is 3.0\n",
      "\n",
      "This is a INV\n",
      "The inputs to this gate are ['D']\n",
      "The output of this gate is F\n",
      "The Delay for the gate is 2.0\n",
      "\n"
     ]
    }
   ],
   "source": [
    "for el in primary_outputs:\n",
    "    gate = find_prev(gates, el)\n",
    "    gate.print_attr()"
   ]
  },
  {
   "cell_type": "code",
   "execution_count": null,
   "metadata": {},
   "outputs": [],
   "source": []
  },
  {
   "cell_type": "code",
   "execution_count": 95,
   "metadata": {},
   "outputs": [
    {
     "name": "stdout",
     "output_type": "stream",
     "text": [
      "This is a INV\n",
      "The inputs to this gate are ['A']\n",
      "The output of this gate is C\n",
      "The Delay for the gate is 2.0\n",
      "\n",
      "This is a AND2\n",
      "The inputs to this gate are ['C', 'B']\n",
      "The output of this gate is D\n",
      "The Delay for the gate is 4.0\n",
      "\n",
      "This is a NAND2\n",
      "The inputs to this gate are ['C', 'D']\n",
      "The output of this gate is E\n",
      "The Delay for the gate is 3.0\n",
      "\n",
      "This is a INV\n",
      "The inputs to this gate are ['D']\n",
      "The output of this gate is F\n",
      "The Delay for the gate is 2.0\n",
      "\n"
     ]
    }
   ],
   "source": [
    "for i in range(len(gates)):\n",
    "    gates[i].print_attr()"
   ]
  },
  {
   "cell_type": "markdown",
   "metadata": {},
   "source": [
    "algo is, output = delay + max(inputs)"
   ]
  },
  {
   "cell_type": "code",
   "execution_count": 96,
   "metadata": {},
   "outputs": [
    {
     "name": "stdout",
     "output_type": "stream",
     "text": [
      "{'A': 0, 'B': 0, 'C': 2.0, 'D': 6.0, 'E': 9.0, 'F': 8.0}\n"
     ]
    }
   ],
   "source": [
    "dict = {}\n",
    "for el in primary_inputs:\n",
    "    dict[el] = 0\n",
    "def max_delay(list_gate):\n",
    "    list_delays = []\n",
    "    for el in list_gate:\n",
    "        list_delays.append(dict[el])\n",
    "    return max(list_delays)\n",
    "\n",
    "for gate in gates:\n",
    "    dict[gate.output] = max_delay(gate.inputs) + gate.delay\n",
    "print(dict)"
   ]
  },
  {
   "cell_type": "code",
   "execution_count": 97,
   "metadata": {},
   "outputs": [
    {
     "name": "stdout",
     "output_type": "stream",
     "text": [
      "E 9\n",
      "F 8\n"
     ]
    }
   ],
   "source": [
    "for el in primary_outputs:\n",
    "    print(f\"{el} {int(dict[el])}\")"
   ]
  },
  {
   "cell_type": "code",
   "execution_count": null,
   "metadata": {},
   "outputs": [],
   "source": []
  }
 ],
 "metadata": {
  "kernelspec": {
   "display_name": "base",
   "language": "python",
   "name": "python3"
  },
  "language_info": {
   "codemirror_mode": {
    "name": "ipython",
    "version": 3
   },
   "file_extension": ".py",
   "mimetype": "text/x-python",
   "name": "python",
   "nbconvert_exporter": "python",
   "pygments_lexer": "ipython3",
   "version": "3.9.13"
  },
  "orig_nbformat": 4
 },
 "nbformat": 4,
 "nbformat_minor": 2
}
