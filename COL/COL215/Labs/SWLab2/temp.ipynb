{
 "cells": [
  {
   "cell_type": "code",
   "execution_count": 45,
   "metadata": {},
   "outputs": [],
   "source": [
    "import sys"
   ]
  },
  {
   "cell_type": "code",
   "execution_count": 46,
   "metadata": {},
   "outputs": [],
   "source": [
    "class Gate:\n",
    "    def __init__(self, gate_type, inputs, outputs, delays, areas):\n",
    "        self.gate_type = gate_type  # encoding the type of gate\n",
    "        self.inputs = inputs  # inputs to the gate\n",
    "        self.outputs = outputs  # outputs of the gate\n",
    "        self.delay = delays  # encoding the delay\n",
    "        self.area = areas # encoding the area\n",
    "        self.prev = []  # to store the previous gates"
   ]
  },
  {
   "cell_type": "code",
   "execution_count": 47,
   "metadata": {},
   "outputs": [],
   "source": [
    "def input():\n",
    "    intput_str = \"\"\n",
    "    input_filename = str(sys.argv[2])\n",
    "    with open(input_filename, 'r') as file:\n",
    "        intput_str = file.read()\n",
    "\n",
    "    gate_delay_str = \"\"\n",
    "    delay_filename = str(sys.argv[3])\n",
    "    with open(delay_filename, 'r') as file:\n",
    "        gate_delay_str = file.read()\n",
    "\n",
    "    return intput_str, gate_delay_str"
   ]
  },
  {
   "cell_type": "code",
   "execution_count": 48,
   "metadata": {},
   "outputs": [],
   "source": [
    "def formatted_input():\n",
    "    input_spice, gate_delay_str = input()\n",
    "\n",
    "    # ------------------- input_spice -----------------------\n",
    "    # list that breaks the input into elements\n",
    "    input_lines = input_spice.strip().split('\\n')\n",
    "    formatted_input_lines = []\n",
    "    for line in input_lines:\n",
    "        try:\n",
    "            if not line[0]:\n",
    "                continue\n",
    "            elif line[0] == '/' and line[1] == '/':\n",
    "                continue\n",
    "            else:\n",
    "                formatted_input_lines.append(line)\n",
    "        except:\n",
    "            continue\n",
    "\n",
    "    # ------------------- delay -------------------------------\n",
    "    delay_lines = gate_delay_str.strip().split('\\n')\n",
    "    formatted_delay_lines = []\n",
    "    for line in delay_lines:\n",
    "        try:\n",
    "            if not line[0]:\n",
    "                continue\n",
    "            elif line[0] == '/' and line[1] == '/':\n",
    "                continue\n",
    "            else:\n",
    "                formatted_delay_lines.append(line)\n",
    "        except:\n",
    "            continue\n",
    "\n",
    "    return formatted_input_lines, formatted_delay_lines"
   ]
  },
  {
   "cell_type": "code",
   "execution_count": 49,
   "metadata": {},
   "outputs": [],
   "source": [
    "def parse_input(lines, delays_list):\n",
    "    delays_dict = {}  # dict for later use {gate_type: delay}\n",
    "    area_dict = {}  # dict for later use {gate_type: area}\n",
    "    delays_list = delays_list.split(\"\\n\")\n",
    "    lines = lines.split(\"\\n\")\n",
    "    iterator = 0\n",
    "    while (iterator < len(delays_list)):\n",
    "        temp_1 = delays_list[iterator].split(\" \")\n",
    "        temp_2 = delays_list[iterator+1].split(\" \")\n",
    "        temp_3 = delays_list[iterator+2].split(\" \")\n",
    "        gate = temp_1[1]\n",
    "        delays = [float(temp_1[2]), float(temp_2[2]), float(temp_3[2])]\n",
    "        areas = [float(temp_1[3]), float(temp_2[3]), float(temp_3[3])]\n",
    "        delays_dict[gate] = delays\n",
    "        area_dict[gate] = areas\n",
    "        iterator += 3\n",
    "\n",
    "    primary_inputs = lines[0].split()[1:]\n",
    "    primary_outputs = lines[1].split()[1:]\n",
    "\n",
    "    gates = []  # array of Gate(s)\n",
    "    for line in lines[3:]:\n",
    "        tokens = line.split()\n",
    "        gate_type = tokens[0]\n",
    "        inputs = tokens[1:-1]\n",
    "        output = tokens[-1]\n",
    "        if (gate_type == \"DFF\"):\n",
    "            gates.append(Gate(gate_type,  inputs, output, [0,0,0], [0,0,0]))\n",
    "        else:\n",
    "            gates.append(Gate(gate_type,  inputs, output, delays_dict[gate_type], area_dict[gate_type]))\n",
    "\n",
    "    # primary_inputs is an array of primary inputs\n",
    "    # primary_outputs is an array of primary outputs\n",
    "    # internal_signals is an array of internal signals\n",
    "    # the array of gates\n",
    "    return primary_inputs, primary_outputs, gates"
   ]
  },
  {
   "cell_type": "code",
   "execution_count": 50,
   "metadata": {},
   "outputs": [],
   "source": [
    "lines = \"\"\"PRIMARY_INPUTS A B\n",
    "PRIMARY_OUTPUTS E F\n",
    "INTERNAL_SIGNALS C D G\n",
    "INV A C\n",
    "AND2 C B D\n",
    "DFF D G\n",
    "NAND2 C G E\n",
    "INV G F\"\"\"\n",
    "\n",
    "gate_delays = \"\"\"NAND2_1 NAND2 3.5 11.2\n",
    "NAND2_2 NAND2 3 13\n",
    "NAND2_3 NAND2 4.5 5.3\n",
    "AND2_1 AND2 16.2 9.5\n",
    "AND2_2 AND2 7 12\n",
    "AND2_3 AND2 4 19.6\n",
    "NOR2_1 NOR2 3.5 10\n",
    "NOR2_2 NOR2 3 12.5\n",
    "NOR2_3 NOR2 2.5 15\n",
    "OR2_1 OR2 4.5 12.8\n",
    "OR2_2 OR2 7.5 10.3\n",
    "OR2_3 OR2 3.75 17\n",
    "INV_1 INV 2 7.33\n",
    "INV_2 INV 3 4.6\n",
    "INV_3 INV 3.5 2.5\"\"\"\n"
   ]
  },
  {
   "cell_type": "code",
   "execution_count": 56,
   "metadata": {},
   "outputs": [
    {
     "name": "stdout",
     "output_type": "stream",
     "text": [
      "[2.0, 3.0, 3.5]\n",
      "[16.2, 7.0, 4.0]\n",
      "[0, 0, 0]\n",
      "[3.5, 3.0, 4.5]\n",
      "[2.0, 3.0, 3.5]\n"
     ]
    }
   ],
   "source": [
    "primary_inputs, primary_outputs, gates = parse_input(lines, gate_delays)"
   ]
  },
  {
   "cell_type": "code",
   "execution_count": 60,
   "metadata": {},
   "outputs": [],
   "source": [
    "def max_delay(list_gate, dict):\n",
    "    list_delay = []\n",
    "    for gate_input in list_gate:\n",
    "        list_delay.append(dict[gate_input])\n",
    "    return max(list_delay)"
   ]
  },
  {
   "cell_type": "code",
   "execution_count": 57,
   "metadata": {},
   "outputs": [],
   "source": [
    "dict = {}  # signal vs time delay\n",
    "for signal in primary_inputs:\n",
    "    dict[signal] = 0"
   ]
  },
  {
   "cell_type": "code",
   "execution_count": 69,
   "metadata": {},
   "outputs": [
    {
     "data": {
      "text/plain": [
       "[6.0, 5.0, 2.0]"
      ]
     },
     "execution_count": 69,
     "metadata": {},
     "output_type": "execute_result"
    }
   ],
   "source": [
    "to_compare = []\n",
    "for gate in gates:\n",
    "    if (gate.gate_type == \"DFF\"):\n",
    "        to_compare.append(dict[gate.inputs[0]])\n",
    "        dict[gate.outputs[0]] = 0\n",
    "    else:\n",
    "        dict[gate.outputs] = max_delay(gate.inputs, dict) + min(gate.delay)\n",
    "\n",
    "for outputs in primary_outputs:\n",
    "    to_compare.append(dict[outputs])\n",
    "\n",
    "to_compare"
   ]
  },
  {
   "cell_type": "code",
   "execution_count": 71,
   "metadata": {},
   "outputs": [
    {
     "data": {
      "text/plain": [
       "6.0"
      ]
     },
     "execution_count": 71,
     "metadata": {},
     "output_type": "execute_result"
    }
   ],
   "source": [
    "answer = max(to_compare)\n",
    "answer"
   ]
  },
  {
   "cell_type": "code",
   "execution_count": null,
   "metadata": {},
   "outputs": [],
   "source": []
  }
 ],
 "metadata": {
  "kernelspec": {
   "display_name": "base",
   "language": "python",
   "name": "python3"
  },
  "language_info": {
   "codemirror_mode": {
    "name": "ipython",
    "version": 3
   },
   "file_extension": ".py",
   "mimetype": "text/x-python",
   "name": "python",
   "nbconvert_exporter": "python",
   "pygments_lexer": "ipython3",
   "version": "3.9.13"
  },
  "orig_nbformat": 4
 },
 "nbformat": 4,
 "nbformat_minor": 2
}
