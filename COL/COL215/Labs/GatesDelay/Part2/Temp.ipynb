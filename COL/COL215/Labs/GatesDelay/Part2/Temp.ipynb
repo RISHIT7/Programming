{
 "cells": [
  {
   "cell_type": "markdown",
   "metadata": {},
   "source": [
    "A 5 \\\n",
    "B 7\n",
    "\n",
    "E 15 \\\n",
    "F 13\n",
    "\n",
    "A 0 \\\n",
    "B 0"
   ]
  },
  {
   "cell_type": "markdown",
   "metadata": {},
   "source": [
    "A - 0\n",
    "B - 0\n",
    "\n",
    "C - 2 + A\n",
    "\n",
    "D - 4 + C + B\n",
    "\n",
    "E - 9 + A, 9 + B, 9 + A, 9 + B \\\n",
    "F - 8 + A, 8 + B, 8 + B, 8 + A"
   ]
  },
  {
   "cell_type": "code",
   "execution_count": 3,
   "metadata": {},
   "outputs": [
    {
     "name": "stdout",
     "output_type": "stream",
     "text": [
      "False\n"
     ]
    }
   ],
   "source": [
    "def not_possible(dict_a, ans_dict):\n",
    "    if max(dict_a.values()) > max(ans_dict.values()):\n",
    "        return True\n",
    "    else:\n",
    "        return False\n",
    "    \n",
    "def equal(dict_a, ans_dict):\n",
    "    ans = True\n",
    "    list_a = dict_a.values()\n",
    "    ans_list = ans_dict.values()\n",
    "    for i in range(len(list_a)):\n",
    "        if list_a != ans_list:\n",
    "            ans = False\n",
    "            break\n",
    "    return ans\n",
    "\n",
    "def listss(dict_a, ans_dict):\n",
    "    if (not_possible(dict_a, ans_dict)):\n",
    "        return False\n",
    "    elif (equal(dict_a, ans_dict)):\n",
    "        return True\n",
    "    else:\n",
    "        dict_a1 = dict_a\n",
    "        dict_a1['A'] += 1\n",
    "        dict_a2 = dict_a\n",
    "        dict_a2['B'] += 1\n",
    "        return listss(dict_a1, ans_dict) or listss(dict_a2, ans_dict)\n",
    "\n",
    "dict_a = {'A':0, 'B':0}\n",
    "ans_dict = {'E':15, 'F':13}\n",
    "print(listss(dict_a, ans_dict))"
   ]
  },
  {
   "cell_type": "code",
   "execution_count": null,
   "metadata": {},
   "outputs": [],
   "source": []
  }
 ],
 "metadata": {
  "kernelspec": {
   "display_name": "base",
   "language": "python",
   "name": "python3"
  },
  "language_info": {
   "codemirror_mode": {
    "name": "ipython",
    "version": 3
   },
   "file_extension": ".py",
   "mimetype": "text/x-python",
   "name": "python",
   "nbconvert_exporter": "python",
   "pygments_lexer": "ipython3",
   "version": "3.9.13"
  },
  "orig_nbformat": 4
 },
 "nbformat": 4,
 "nbformat_minor": 2
}
