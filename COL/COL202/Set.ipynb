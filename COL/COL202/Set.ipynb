{
 "cells": [
  {
   "cell_type": "markdown",
   "metadata": {},
   "source": [
    "### Vacuously True\n",
    "When the hypothesis is false, the statment is vacuously true"
   ]
  },
  {
   "cell_type": "markdown",
   "metadata": {},
   "source": [
    "### Contrapositive\n",
    "$$p \\rightarrow q \\text{ has the contra positive as } ~q \\rightarrow ~p$$"
   ]
  },
  {
   "cell_type": "markdown",
   "metadata": {},
   "source": [
    "### Converse\n",
    "$$p \\rightarrow q \\text{ has the converse as } q \\rightarrow p$$"
   ]
  },
  {
   "cell_type": "markdown",
   "metadata": {},
   "source": [
    "### Inverse\n",
    "$$p \\rightarrow q \\text{ has the inverse as } ~p \\rightarrow ~q$$"
   ]
  },
  {
   "cell_type": "markdown",
   "metadata": {},
   "source": [
    "### Biconditional\n",
    "$$p \\rightarrow q \\text{ and } q \\rightarrow p$$"
   ]
  },
  {
   "cell_type": "code",
   "execution_count": null,
   "metadata": {},
   "outputs": [],
   "source": []
  }
 ],
 "metadata": {
  "language_info": {
   "name": "python"
  },
  "orig_nbformat": 4
 },
 "nbformat": 4,
 "nbformat_minor": 2
}
