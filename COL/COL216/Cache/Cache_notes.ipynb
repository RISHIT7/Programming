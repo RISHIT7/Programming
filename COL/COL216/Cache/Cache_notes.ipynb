{
 "cells": [
  {
   "cell_type": "markdown",
   "metadata": {},
   "source": [
    "# Notes"
   ]
  },
  {
   "cell_type": "markdown",
   "metadata": {},
   "source": [
    "## Notes till now\n",
    "\n"
   ]
  },
  {
   "cell_type": "markdown",
   "metadata": {},
   "source": [
    "### Average fetch time\n",
    "\n",
    "1) **Way 1:-** $H_1T_1 + (1-H_1)H_2T_2 + (1-H_1)(1-H_2)T_3$\n",
    "2) **Way 1:-** $H_1T_1 + (1-H_1)H_2(T_1 + T_2) + (1-H_1)(1-H_2)(T_1 + T_2 + T_3)$"
   ]
  },
  {
   "cell_type": "markdown",
   "metadata": {},
   "source": [
    "### Cache notes\n",
    "\n",
    "1) _Line Size = Block size_\n",
    "2) _No. of lines in cache = Cache Size/Line Size_"
   ]
  },
  {
   "cell_type": "markdown",
   "metadata": {},
   "source": [
    "## Memory Mapping\n",
    "***\n",
    " ### 1) Direct Memory Mapping\n",
    "> ![Direct Mapping](./images/DirectMapping.png)"
   ]
  },
  {
   "cell_type": "code",
   "execution_count": null,
   "metadata": {},
   "outputs": [],
   "source": []
  }
 ],
 "metadata": {
  "language_info": {
   "name": "python"
  }
 },
 "nbformat": 4,
 "nbformat_minor": 2
}
