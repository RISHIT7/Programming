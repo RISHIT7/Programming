{
 "cells": [
  {
   "cell_type": "code",
   "execution_count": 1,
   "metadata": {},
   "outputs": [],
   "source": [
    "import math\n",
    "Byte = 8\n",
    "Gb = 2**30\n",
    "Mb = 2**20\n",
    "Kb = 2**10\n",
    "ns = 10**-9"
   ]
  },
  {
   "cell_type": "markdown",
   "metadata": {},
   "source": [
    "# Notes"
   ]
  },
  {
   "cell_type": "markdown",
   "metadata": {},
   "source": [
    "## Notes till now\n",
    "\n"
   ]
  },
  {
   "cell_type": "markdown",
   "metadata": {},
   "source": [
    "### Average fetch time\n",
    "\n",
    "1) **Way 1:-** $H_1T_1 + (1-H_1)H_2T_2 + (1-H_1)(1-H_2)T_3$\n",
    "2) **Way 1:-** $H_1T_1 + (1-H_1)H_2(T_1 + T_2) + (1-H_1)(1-H_2)(T_1 + T_2 + T_3)$"
   ]
  },
  {
   "cell_type": "markdown",
   "metadata": {},
   "source": [
    "### Cache notes\n",
    "\n",
    "1) _Line Size = Block size_\n",
    "2) _No. of lines in cache = Cache Size/Line Size_"
   ]
  },
  {
   "cell_type": "markdown",
   "metadata": {},
   "source": [
    "## Memory Mapping\n",
    "***\n",
    " ### 1) Direct Memory Mapping\n",
    "> ![Direct Mapping](./images/DirectMapping.png)\n",
    " #### 1a) Types of Cache Misses \n",
    " - Compulsory Miss a.k.a. Cold Miss\n",
    " - Conflict Miss a.k.a. Collision Miss, Interference Miss\n",
    " - Capacity Miss\n",
    " - Coherence Misses\n",
    " - Coverage Misses\n",
    " - System related Misses"
   ]
  },
  {
   "cell_type": "code",
   "execution_count": 2,
   "metadata": {},
   "outputs": [],
   "source": [
    "MMSize = 16*Gb\n",
    "TagBits = 10\n",
    "BlockSize = 4*Kb"
   ]
  },
  {
   "cell_type": "markdown",
   "metadata": {},
   "source": [
    "Find Cache Size"
   ]
  },
  {
   "cell_type": "code",
   "execution_count": 3,
   "metadata": {},
   "outputs": [
    {
     "name": "stdout",
     "output_type": "stream",
     "text": [
      "The Cache Size is: 16.0Mb\n"
     ]
    }
   ],
   "source": [
    "LineSize = BlockSize\n",
    "PABits = math.log2(MMSize)\n",
    "BlockOffset = math.log2(BlockSize)\n",
    "LineNumber = PABits - BlockOffset - TagBits\n",
    "CacheBits = LineNumber + BlockOffset\n",
    "CacheSize = 2**(CacheBits)\n",
    "print(f\"The Cache Size is: {CacheSize/Mb}Mb\")"
   ]
  },
  {
   "cell_type": "markdown",
   "metadata": {},
   "source": [
    "### 2) Associative Mapping \n",
    "> ![Direct Mapping](./images/AssociativeMapping.png)"
   ]
  },
  {
   "cell_type": "markdown",
   "metadata": {},
   "source": [
    "<p style = \"color: orange\">Question 1</p>"
   ]
  },
  {
   "cell_type": "code",
   "execution_count": 4,
   "metadata": {},
   "outputs": [],
   "source": [
    "MMSize = 2*Gb\n",
    "BlockSize = 2*Kb\n",
    "ComparaterDelay_perBit = 15*ns\n",
    "ORGateDelay = 7*ns"
   ]
  },
  {
   "cell_type": "markdown",
   "metadata": {},
   "source": [
    "1) Tag Bits?\n",
    "2) Index Bits?"
   ]
  },
  {
   "cell_type": "code",
   "execution_count": 5,
   "metadata": {},
   "outputs": [
    {
     "name": "stdout",
     "output_type": "stream",
     "text": [
      "The Hit Latency is: 307.0ns\n"
     ]
    }
   ],
   "source": [
    "PABits = math.log2(MMSize)\n",
    "BlockOffset = math.log2(BlockSize)\n",
    "TagBits = PABits-BlockOffset\n",
    "ComparaterDelay = ComparaterDelay_perBit*TagBits\n",
    "HitLatency = ComparaterDelay+ORGateDelay\n",
    "print(f\"The Hit Latency is: {HitLatency/ns}ns\")"
   ]
  },
  {
   "cell_type": "markdown",
   "metadata": {},
   "source": [
    "<p style = \"color: orange\">Question 2</p>"
   ]
  },
  {
   "cell_type": "code",
   "execution_count": 6,
   "metadata": {},
   "outputs": [],
   "source": [
    "CacheSize = 16*Kb\n",
    "BlockSize = 16\n",
    "WordSize = 1\n",
    "PABits = 32"
   ]
  },
  {
   "cell_type": "code",
   "execution_count": 7,
   "metadata": {},
   "outputs": [
    {
     "name": "stdout",
     "output_type": "stream",
     "text": [
      "The no. of bits in \n",
      "Tag Bits are: 28.0\n",
      "and in \n",
      "Index Bits are: 10.0\n"
     ]
    }
   ],
   "source": [
    "LineSize = BlockSize\n",
    "CacheBits = math.log2(CacheSize) # CacheBits = LineBites + BlockOffset\n",
    "BlockOffset = math.log2(BlockSize)\n",
    "LineBits = math.log2(CacheSize/LineSize)\n",
    "TagBits = PABits - BlockOffset\n",
    "print(f\"The no. of bits in \\nTag Bits are: {TagBits}\\nand in \\nIndex Bits are: {LineBits}\")"
   ]
  },
  {
   "cell_type": "markdown",
   "metadata": {},
   "source": [
    "### 3) Set Associative Mapping\n",
    "> ![SetAssociativeMapping](./images/SetAssociativeMapping.png)"
   ]
  },
  {
   "cell_type": "markdown",
   "metadata": {},
   "source": [
    "<p style = \"color: orange\">Question 1</p>"
   ]
  },
  {
   "cell_type": "code",
   "execution_count": 8,
   "metadata": {},
   "outputs": [],
   "source": [
    "MMsize = 256*Mb\n",
    "CacheSize = 1*Mb\n",
    "BlockSize = 128\n",
    "Way = 2"
   ]
  },
  {
   "cell_type": "code",
   "execution_count": 9,
   "metadata": {},
   "outputs": [
    {
     "name": "stdout",
     "output_type": "stream",
     "text": [
      "The P.A. split is as follows from the total of 28.0\n",
      "Block Offset: 7.0\n",
      "Set Bites: 12.0\n",
      "Tag Bites: 9.0\n"
     ]
    }
   ],
   "source": [
    "PABits = math.log2(MMsize)\n",
    "BlockOffset = math.log2(BlockSize)\n",
    "LineBites = BlockOffset\n",
    "CacheBites = math.log2(CacheSize)\n",
    "NoOfLines = (2**(CacheBites-LineBites))\n",
    "NoOfSets = NoOfLines/Way\n",
    "SetBites = math.log2(NoOfSets)\n",
    "TagBits = PABits - BlockOffset - SetBites\n",
    "print(f\"The P.A. split is as follows from the total of {PABits}\")\n",
    "print(f\"Block Offset: {BlockOffset}\\nSet Bites: {SetBites}\\nTag Bites: {TagBits}\")"
   ]
  },
  {
   "cell_type": "markdown",
   "metadata": {},
   "source": [
    "<p style = \"color: orange\">Question 2</p>"
   ]
  },
  {
   "cell_type": "code",
   "execution_count": 10,
   "metadata": {},
   "outputs": [],
   "source": [
    "MMsize = 4*Mb\n",
    "BlockSize = 64\n",
    "TagBits = 10\n",
    "Way = 4"
   ]
  },
  {
   "cell_type": "code",
   "execution_count": 11,
   "metadata": {},
   "outputs": [
    {
     "name": "stdout",
     "output_type": "stream",
     "text": [
      "The P.A. split is as follows from the total of 22.0\n",
      "Block Offset: 6.0\n",
      "Set Bites: 6.0\n",
      "Tag Bites: 10\n",
      "----------------------------------------------------------------------------------------------------\n",
      "The Cache Size is: 16.0Kb\n"
     ]
    }
   ],
   "source": [
    "PABits = math.log2(MMsize)\n",
    "BlockOffset = math.log2(BlockSize)\n",
    "LineOffset = BlockOffset\n",
    "SetBits = PABits - BlockOffset - TagBits\n",
    "NoOfSets = 2**SetBits\n",
    "NoOfLines = NoOfSets*Way\n",
    "CacheSize = NoOfLines*BlockSize\n",
    "print(f\"The P.A. split is as follows from the total of {PABits}\")\n",
    "print(f\"Block Offset: {BlockOffset}\\nSet Bites: {SetBits}\\nTag Bites: {TagBits}\")\n",
    "print(\"-\"*100)\n",
    "print(f\"The Cache Size is: {CacheSize/Kb}Kb\")"
   ]
  }
 ],
 "metadata": {
  "kernelspec": {
   "display_name": "base",
   "language": "python",
   "name": "python3"
  },
  "language_info": {
   "codemirror_mode": {
    "name": "ipython",
    "version": 3
   },
   "file_extension": ".py",
   "mimetype": "text/x-python",
   "name": "python",
   "nbconvert_exporter": "python",
   "pygments_lexer": "ipython3",
   "version": "3.9.13"
  }
 },
 "nbformat": 4,
 "nbformat_minor": 2
}
