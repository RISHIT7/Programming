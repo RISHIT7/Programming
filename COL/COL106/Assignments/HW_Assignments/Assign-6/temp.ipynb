{
 "cells": [
  {
   "cell_type": "markdown",
   "metadata": {},
   "source": [
    "So our input \"corpus\"/book will be saved, through \"insert_sentence\" these data will be saved in some data structure, and must save words with the word frequency in different data structure"
   ]
  },
  {
   "cell_type": "markdown",
   "metadata": {},
   "source": [
    "_dump-dictionary_ will dump the dictionary into a file as "
   ]
  },
  {
   "cell_type": "markdown",
   "metadata": {},
   "source": [
    "ans, 5 \\\n",
    "sd, 1"
   ]
  },
  {
   "cell_type": "code",
   "execution_count": null,
   "metadata": {},
   "outputs": [],
   "source": []
  }
 ],
 "metadata": {
  "language_info": {
   "name": "python"
  }
 },
 "nbformat": 4,
 "nbformat_minor": 2
}
