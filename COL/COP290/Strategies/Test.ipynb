{
 "cells": [
  {
   "cell_type": "code",
   "execution_count": 8,
   "metadata": {},
   "outputs": [],
   "source": [
    "import sys\n",
    "from datetime import date\n",
    "import pandas as pd\n",
    "import numpy as np\n",
    "from jugaad_data.nse import stock_df"
   ]
  },
  {
   "cell_type": "code",
   "execution_count": 70,
   "metadata": {},
   "outputs": [],
   "source": [
    "def get_ewm(DATA, i, long_term, alpha):\n",
    "    if (i == 0):\n",
    "        return DATA[0]\n",
    "    \n",
    "    prev_ewm = get_ewm(DATA, i-1, long_term, alpha)\n",
    "    ewm = alpha*(DATA[i] - prev_ewm) + prev_ewm\n",
    "    \n",
    "    return ewm"
   ]
  },
  {
   "cell_type": "code",
   "execution_count": 95,
   "metadata": {},
   "outputs": [],
   "source": [
    "def macd(path):\n",
    "    df = pd.read_csv(path)\n",
    "    stocks = 0\n",
    "    cashflow = 0\n",
    "    df['PriceChange'] = df['CLOSE'].diff()\n",
    "\n",
    "    # Calculate average gain and average loss over a specified window (e.g., 14 days)\n",
    "    window = 14\n",
    "    df['Gain'] = np.where(df['PriceChange'] > 0, df['PriceChange'], 0)\n",
    "    df['Loss'] = np.where(df['PriceChange'] < 0, -df['PriceChange'], 0)\n",
    "    df['AverageGain'] = df['Gain'].rolling(window  = window, min_periods=1).mean()\n",
    "    df['AverageLoss'] = df['Loss'].rolling(window  = window, min_periods=1).mean()\n",
    "\n",
    "    # Calculate the Relative Strength (RS)\n",
    "    df['RS'] = df['AverageGain'] / df['AverageLoss']\n",
    "\n",
    "    # Calculate the RSI\n",
    "    rsi = 100 - (100 / (1 + df['RS']))\n",
    "    print(rs)\n",
    "    # for i in range(247):\n",
    "    #     if (i < 14):\n",
    "    #         continue\n",
    "    #     if (rsi[i] < 30 and stocks < 3):\n",
    "    #         stocks += 1\n",
    "    #         cashflow -= df['CLOSE'][i]\n",
    "    #     elif  (rsi[i] > 70 and stocks > -3):\n",
    "    #         stocks -= 1\n",
    "    #         cashflow += df['CLOSE'][i]\n",
    "    #     print(f\"{df['DATE'][i]} {cashflow}\")"
   ]
  },
  {
   "cell_type": "code",
   "execution_count": 96,
   "metadata": {},
   "outputs": [
    {
     "name": "stdout",
     "output_type": "stream",
     "text": [
      "0             NaN\n",
      "1      100.000000\n",
      "2        2.702703\n",
      "3        2.666667\n",
      "4        1.673640\n",
      "          ...    \n",
      "242     67.447307\n",
      "243     70.950888\n",
      "244     70.828961\n",
      "245     63.649706\n",
      "246     63.180934\n",
      "Name: RS, Length: 247, dtype: float64\n"
     ]
    }
   ],
   "source": [
    "# ------------------------------------ generation of data frame --------------------------------------------\n",
    "def generate_dataframe(symbol, today, lastday, train_data):\n",
    "    # formatting the date\n",
    "    to_day = int(today[:2])\n",
    "    to_month = int(today[3:5])\n",
    "    to_year = int(today[6:10])\n",
    "    \n",
    "    la_day = int(lastday[:2])\n",
    "    la_month = int(lastday[3:5])\n",
    "    la_year = int(lastday[6:10])\n",
    "    \n",
    "    df = pd.DataFrame(stock_df(symbol=symbol, from_date=date(to_year, to_month, to_day), to_date=date(la_year, la_month, la_day), series=\"EQ\"))\n",
    "    df = df[[ \"DATE\", \"CLOSE\", \"HIGH\", \"LOW\", \"PREV. CLOSE\", \"VWAP\", \"NO OF TRADES\", \"OPEN\"]]\n",
    "    df = df.iloc[::-1]\n",
    "    df['DATE'] = pd.to_datetime(df['DATE'], format='%d-%m-%Y')\n",
    "    df['DATE'] = df['DATE'].dt.strftime('%d/%m/%Y')\n",
    "    if (train_data == \"0\"):\n",
    "        df.to_csv(\"Stocks/\"+symbol+\".csv\", index=False)\n",
    "    else:\n",
    "        df.to_csv(\"Stocks/\"+symbol+\"_train.csv\", index = False)\n",
    "\n",
    "# ----------------------------------------------- pickle --------------------------------------------------------\n",
    "def write_pickle(DATA, symbol):\n",
    "    pd.to_pickle(DATA, symbol + \".pkl\")\n",
    "\n",
    "# -------------------------------------------------------- MAIN -----------------------------------------------------------------------\n",
    "def main():\n",
    "    argument = \"SBIN\"\n",
    "    lastday = \"01/01/2024\"\n",
    "    today = \"01/01/2023\"\n",
    "    train_data = \"0\"\n",
    "\n",
    "    generate_dataframe(argument, today, lastday, train_data)\n",
    "    #write_pickle(DATA, \"Stocks/\" + argument)\n",
    "    macd(\"Stocks/SBIN.csv\")\n",
    "\n",
    "if __name__ == \"__main__\":\n",
    "    main()"
   ]
  },
  {
   "cell_type": "code",
   "execution_count": null,
   "metadata": {},
   "outputs": [],
   "source": []
  },
  {
   "cell_type": "code",
   "execution_count": null,
   "metadata": {},
   "outputs": [],
   "source": []
  }
 ],
 "metadata": {
  "kernelspec": {
   "display_name": "Python 3",
   "language": "python",
   "name": "python3"
  },
  "language_info": {
   "codemirror_mode": {
    "name": "ipython",
    "version": 3
   },
   "file_extension": ".py",
   "mimetype": "text/x-python",
   "name": "python",
   "nbconvert_exporter": "python",
   "pygments_lexer": "ipython3",
   "version": "3.10.11"
  }
 },
 "nbformat": 4,
 "nbformat_minor": 2
}
