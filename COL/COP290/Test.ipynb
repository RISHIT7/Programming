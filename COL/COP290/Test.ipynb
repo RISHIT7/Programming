{
 "cells": [
  {
   "cell_type": "code",
   "execution_count": 34,
   "metadata": {},
   "outputs": [],
   "source": [
    "import sys\n",
    "from datetime import date\n",
    "import pandas as pd\n",
    "import numpy as np\n",
    "from jugaad_data.nse import stock_df\n",
    "import seaborn as sns\n",
    "import ta\n",
    "import matplotlib.pyplot as plt"
   ]
  },
  {
   "cell_type": "code",
   "execution_count": 35,
   "metadata": {},
   "outputs": [],
   "source": [
    "def graph(macd_line, signal_line):\n",
    "    plt.figure(figsize = (12, 6))\n",
    "    sns.set_style('dark')\n",
    "    sns.set_theme('paper')\n",
    "    sns.lineplot(x = macd_line.index, y = macd_line, label = 'macd_line (SBIN)')\n",
    "    sns.lineplot(x = signal_line.index, y = signal_line, label = 'signal_line (SBIN)')\n",
    "    diff = signal_line-macd_line\n",
    "    # sns.barplot(x = diff.index, y = diff, palette= ['red', 'green'], hue)\n",
    "    plt.bar(diff.index, diff, color=['green' if val > 0 else 'red' for val in diff], width=1)"
   ]
  },
  {
   "cell_type": "code",
   "execution_count": 86,
   "metadata": {},
   "outputs": [],
   "source": [
    "def linear(test_data, data):\n",
    "    df = pd.DataFrame()\n",
    "    df['P. CLOSE'] = data['PREV. CLOSE']\n",
    "    df['P. OPEN'] = data['OPEN'].shift(1) \n",
    "    df['P. VWAP'] = data['VWAP'].shift(1)\n",
    "    df['P. LOW'] = data['LOW'].shift(1) \n",
    "    df['P. HIGH'] = data['HIGH'].shift(1)\n",
    "    df['P. NO OF TRADES'] = data['NO OF TRADES'].shift(1)\n",
    "    df['OPEN'] = data['OPEN']\n",
    "    df['ONES'] = 1\n",
    "    df = df.drop(index=0)\n",
    "    matrix = np.array(df)\n",
    "\n",
    "    x_matrix = np.roll(matrix, shift=1, axis=1)\n",
    "    y_matrix = data['CLOSE'].drop(index=0)\n",
    "    \n",
    "    x_transpose = x_matrix.transpose()\n",
    "    x_transpose_x = np.array(x_transpose.dot(x_matrix))\n",
    "    inverse = np.linalg.inv(x_transpose_x)\n",
    "    x_transpose_y = np.array(x_transpose.dot(y_matrix))"
   ]
  },
  {
   "cell_type": "code",
   "execution_count": 87,
   "metadata": {},
   "outputs": [
    {
     "name": "stdout",
     "output_type": "stream",
     "text": [
      "[[ 5.36759016e-01 -1.11852052e-03  3.03214722e-04 -4.80903793e-04\n",
      "   1.09059216e-04 -8.21001164e-04 -1.84316047e-07  1.06552541e-03]\n",
      " [-1.11852052e-03  7.95213628e-04  2.84874771e-04 -2.99231841e-04\n",
      "  -2.53126571e-04 -2.72241317e-04  2.59558252e-09 -2.53804172e-04]\n",
      " [ 3.03214722e-04  2.84874771e-04  4.88419218e-04  5.23849549e-04\n",
      "  -6.35958139e-04 -6.43803362e-04 -2.41361534e-09 -1.71059449e-05]\n",
      " [-4.80903793e-04 -2.99231841e-04  5.23849549e-04  3.70641313e-03\n",
      "  -1.83358975e-03 -2.14368321e-03 -3.84991977e-09  5.04852834e-05]\n",
      " [ 1.09059216e-04 -2.53126571e-04 -6.35958139e-04 -1.83358975e-03\n",
      "   1.53119890e-03  1.19283366e-03  1.34739114e-08 -2.09478301e-06]\n",
      " [-8.21001164e-04 -2.72241317e-04 -6.43803362e-04 -2.14368321e-03\n",
      "   1.19283366e-03  1.85699441e-03 -7.20223291e-09  7.59781823e-06]\n",
      " [-1.84316047e-07  2.59558252e-09 -2.41361534e-09 -3.84991977e-09\n",
      "   1.34739114e-08 -7.20223291e-09  1.18498727e-12 -2.45882915e-09]\n",
      " [ 1.06552541e-03 -2.53804172e-04 -1.71059449e-05  5.04852834e-05\n",
      "  -2.09478301e-06  7.59781823e-06 -2.45882916e-09  2.13526517e-04]]\n"
     ]
    }
   ],
   "source": [
    "# ------------------------------------ generation of data frame --------------------------------------------\n",
    "def generate_dataframe(symbol, today, lastday, train_data):\n",
    "    # formatting the date\n",
    "    to_day = int(today[:2])\n",
    "    to_month = int(today[3:5])\n",
    "    to_year = int(today[6:10])\n",
    "    \n",
    "    la_day = int(lastday[:2])\n",
    "    la_month = int(lastday[3:5])\n",
    "    la_year = int(lastday[6:10])\n",
    "    \n",
    "    df = pd.DataFrame(stock_df(symbol=symbol, from_date=date(to_year, to_month, to_day), to_date=date(la_year, la_month, la_day), series=\"EQ\"))\n",
    "    df = df[[ \"DATE\", \"CLOSE\", \"HIGH\", \"LOW\", \"PREV. CLOSE\", \"VWAP\", \"NO OF TRADES\", \"OPEN\"]]\n",
    "    df = df.iloc[::-1]\n",
    "    df['DATE'] = pd.to_datetime(df['DATE'], format='%d-%m-%Y')\n",
    "    df['DATE'] = df['DATE'].dt.strftime('%d/%m/%Y')\n",
    "    if (train_data == \"0\"):\n",
    "        df.to_csv(\"Stocks/\"+symbol+\".csv\", index=False)\n",
    "    else:\n",
    "        df.to_csv(\"Stocks/\"+symbol+\"_train.csv\", index = False)\n",
    "\n",
    "# ----------------------------------------------- pickle --------------------------------------------------------\n",
    "def write_pickle(DATA, symbol):\n",
    "    pd.to_pickle(DATA, symbol + \".pkl\")\n",
    "\n",
    "# -------------------------------------------------------- MAIN -----------------------------------------------------------------------\n",
    "def main():\n",
    "    arguments = [\"SBIN\", \"SBIN\"]\n",
    "    lastday = [\"31/12/2023\", \"31/12/2022\"]\n",
    "    today = [\"01/01/2023\", \"01/01/2022\"]\n",
    "    train_data = [\"0\", \"1\"]\n",
    "    for i, argument in enumerate(arguments):\n",
    "        generate_dataframe(argument, today[i], lastday[i], train_data[i])\n",
    "    #write_pickle(DATA, \"Stocks/\" + argument)\n",
    "    \n",
    "    df1 = pd.read_csv('Stocks/SBIN.csv')\n",
    "    train_df1 = pd.read_csv('Stocks/SBIN_train.csv')\n",
    "    linear(df1, train_df1)\n",
    "\n",
    "if __name__ == \"__main__\":\n",
    "    main()"
   ]
  },
  {
   "cell_type": "code",
   "execution_count": null,
   "metadata": {},
   "outputs": [],
   "source": []
  },
  {
   "cell_type": "code",
   "execution_count": null,
   "metadata": {},
   "outputs": [],
   "source": []
  },
  {
   "cell_type": "code",
   "execution_count": null,
   "metadata": {},
   "outputs": [],
   "source": []
  },
  {
   "cell_type": "code",
   "execution_count": null,
   "metadata": {},
   "outputs": [],
   "source": []
  }
 ],
 "metadata": {
  "kernelspec": {
   "display_name": "Python 3",
   "language": "python",
   "name": "python3"
  },
  "language_info": {
   "codemirror_mode": {
    "name": "ipython",
    "version": 3
   },
   "file_extension": ".py",
   "mimetype": "text/x-python",
   "name": "python",
   "nbconvert_exporter": "python",
   "pygments_lexer": "ipython3",
   "version": "3.9.13"
  }
 },
 "nbformat": 4,
 "nbformat_minor": 2
}
