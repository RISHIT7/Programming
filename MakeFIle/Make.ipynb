{
 "cells": [
  {
   "cell_type": "markdown",
   "metadata": {},
   "source": [
    "code.c -> preprocessor -> compiler -> assembler.s -> linker.o "
   ]
  },
  {
   "cell_type": "markdown",
   "metadata": {},
   "source": [
    "-E for the preproceesed file \\\n",
    "-S for the assembly file \\\n",
    "-c for the linker file \\\n",
    "-o for the output file ( executable )"
   ]
  },
  {
   "cell_type": "markdown",
   "metadata": {},
   "source": [
    "When we use the #include \"\", the preprocesssor finds the file and copy pastes the content of that file in the current file \\\n",
    "So it's just like we wrote the functions into the file itself"
   ]
  },
  {
   "cell_type": "markdown",
   "metadata": {},
   "source": [
    "But that means in a include statement we might have to compile a million line code at once \\\n",
    "The better way of doing this is, compiling all the files seperately and then linking the files, so if on file is changed, only that file needs to be compiled again and not the million lines of code"
   ]
  },
  {
   "cell_type": "markdown",
   "metadata": {},
   "source": [
    "So all we need is a boiler plate of the function that can later be fillen, in the code, to compile the file independently"
   ]
  },
  {
   "cell_type": "markdown",
   "metadata": {},
   "source": [
    "# - * - MakeFile - * -\n",
    "\n",
    "target: dependencies \\\n",
    "\\s\\s\\s\\s action"
   ]
  }
 ],
 "metadata": {
  "language_info": {
   "name": "python"
  }
 },
 "nbformat": 4,
 "nbformat_minor": 2
}
