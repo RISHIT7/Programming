{
 "cells": [
  {
   "cell_type": "markdown",
   "metadata": {},
   "source": [
    "# To summarize long texts"
   ]
  },
  {
   "cell_type": "code",
   "execution_count": 1,
   "metadata": {},
   "outputs": [],
   "source": [
    "# prompt = f\"\"\"\n",
    "# Your task is to generate a short summary of a product \\\n",
    "# review from an ecommerce site. \n",
    "\n",
    "# Summarize the review below, delimited by triple \n",
    "# backticks, in at most 30 words. \n",
    "\n",
    "# Review: ```{prod_review}```\n",
    "# \"\"\"\n",
    "\n",
    "# response = get_completion(prompt)\n",
    "# print(response)"
   ]
  },
  {
   "cell_type": "markdown",
   "metadata": {},
   "source": [
    "Summarize with a focus on shipping and delivery"
   ]
  },
  {
   "cell_type": "code",
   "execution_count": 2,
   "metadata": {},
   "outputs": [],
   "source": [
    "# prompt = f\"\"\"\n",
    "# Your task is to generate a short summary of a product \\\n",
    "# review from an ecommerce site to give feedback to the \\\n",
    "# Shipping deparmtment. \n",
    "\n",
    "# Summarize the review below, delimited by triple \n",
    "# backticks, in at most 30 words, and focusing on any aspects \\\n",
    "# that mention shipping and delivery of the product. \n",
    "\n",
    "# Review: ```{prod_review}```\n",
    "# \"\"\"\n",
    "\n",
    "# response = get_completion(prompt)\n",
    "# print(response)"
   ]
  },
  {
   "cell_type": "markdown",
   "metadata": {},
   "source": [
    "- __Comment__\n",
    "    - Summaries include topics that are not related to the topic of focus\n",
    "\n",
    "#### Try \"extract\" instead of \"summarize\""
   ]
  },
  {
   "cell_type": "code",
   "execution_count": null,
   "metadata": {},
   "outputs": [],
   "source": [
    "# prompt = f\"\"\"\n",
    "# Your task is to extract relevant information from \\ \n",
    "# a product review from an ecommerce site to give \\\n",
    "# feedback to the Shipping department. \n",
    "\n",
    "# From the review below, delimited by triple quotes \\\n",
    "# extract the information relevant to shipping and \\ \n",
    "# delivery. Limit to 30 words. \n",
    "\n",
    "# Review: ```{prod_review}```\n",
    "# \"\"\"\n",
    "\n",
    "# response = get_completion(prompt)\n",
    "# print(response)"
   ]
  },
  {
   "cell_type": "code",
   "execution_count": null,
   "metadata": {},
   "outputs": [],
   "source": []
  }
 ],
 "metadata": {
  "kernelspec": {
   "display_name": "base",
   "language": "python",
   "name": "python3"
  },
  "language_info": {
   "codemirror_mode": {
    "name": "ipython",
    "version": 3
   },
   "file_extension": ".py",
   "mimetype": "text/x-python",
   "name": "python",
   "nbconvert_exporter": "python",
   "pygments_lexer": "ipython3",
   "version": "3.9.13"
  },
  "orig_nbformat": 4
 },
 "nbformat": 4,
 "nbformat_minor": 2
}
