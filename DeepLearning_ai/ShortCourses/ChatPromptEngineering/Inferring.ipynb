{
 "cells": [
  {
   "cell_type": "markdown",
   "metadata": {},
   "source": [
    "# Sentiment Analysis"
   ]
  },
  {
   "cell_type": "code",
   "execution_count": 1,
   "metadata": {},
   "outputs": [],
   "source": [
    "# prompt = f\"\"\"\n",
    "#     What is the esentiment of the following product review,\n",
    "#     which is delimited with triple backslash\n",
    "\n",
    "#     Revieew text: '''{lamp_review}'''\n",
    "# \"\"\""
   ]
  },
  {
   "cell_type": "code",
   "execution_count": 2,
   "metadata": {},
   "outputs": [],
   "source": [
    "# prompt = f\"\"\"\n",
    "#     What is the esentiment of the following product review,\n",
    "#     which is delimited with triple backslash\n",
    "\n",
    "#     Give your answer as a single word, either \"positive\" \\ or \"negative\".\n",
    "\n",
    "#     Revieew text: '''{lamp_review}'''\n",
    "# \"\"\""
   ]
  },
  {
   "cell_type": "code",
   "execution_count": 4,
   "metadata": {},
   "outputs": [],
   "source": [
    "# prompt = f\"\"\"\n",
    "#     Identify a list of emotions that the writer of the \\\n",
    "#     following review is expressing. Includ no more than \\\n",
    "#     five items in the list. Format your answer as a list of \\\n",
    "#     lower-case words seperated by commas.\n",
    "\n",
    "#     Revieew text: '''{lamp_review}'''\n",
    "# \"\"\""
   ]
  },
  {
   "cell_type": "code",
   "execution_count": 5,
   "metadata": {},
   "outputs": [],
   "source": [
    "# prompt = f\"\"\"\n",
    "#     Identify the following item from the review test:\n",
    "#     - Sentiment (positive or negative)\n",
    "#     - Is the reviewer expressing anger? (true or false)\n",
    "#     - Item purchased by reviewer\n",
    "#     - Company that made the item\n",
    "\n",
    "#     The review is delimited with triple backticks. \\\n",
    "#     Format your response as a JSON object with \\\n",
    "#     \"Sentiment\", \"Anger\", \"Item\", and \"Brand\" as the keys. \\\n",
    "#     If the information isn't present, use \"unkown\" \\\n",
    "#     Format the Anger value as boolean.\n",
    "\n",
    "#     Revieew text: '''{lamp_review}'''\n",
    "# \"\"\""
   ]
  },
  {
   "cell_type": "markdown",
   "metadata": {},
   "source": [
    "0-shot learning algorithm"
   ]
  },
  {
   "cell_type": "markdown",
   "metadata": {},
   "source": [
    "Give a promopt to LLMs, and then tell them to return a list of 0s and 1s given the inputs, such as [NASA, GOVERMENT, POLITICS] and it would return a list of 0 and 1 if the topics was covered in the text, and then you can use it to print alerts evrytime a new NASA development was happening for say"
   ]
  },
  {
   "cell_type": "code",
   "execution_count": null,
   "metadata": {},
   "outputs": [],
   "source": []
  }
 ],
 "metadata": {
  "kernelspec": {
   "display_name": "base",
   "language": "python",
   "name": "python3"
  },
  "language_info": {
   "codemirror_mode": {
    "name": "ipython",
    "version": 3
   },
   "file_extension": ".py",
   "mimetype": "text/x-python",
   "name": "python",
   "nbconvert_exporter": "python",
   "pygments_lexer": "ipython3",
   "version": "3.9.13"
  },
  "orig_nbformat": 4
 },
 "nbformat": 4,
 "nbformat_minor": 2
}
