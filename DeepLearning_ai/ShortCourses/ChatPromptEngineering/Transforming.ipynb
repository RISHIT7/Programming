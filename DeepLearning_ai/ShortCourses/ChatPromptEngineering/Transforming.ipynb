{
 "cells": [
  {
   "cell_type": "markdown",
   "metadata": {},
   "source": [
    "# Transforming"
   ]
  },
  {
   "cell_type": "markdown",
   "metadata": {},
   "source": [
    "###  Translation"
   ]
  },
  {
   "cell_type": "code",
   "execution_count": null,
   "metadata": {},
   "outputs": [],
   "source": [
    "# prompt = f\"\"\"\n",
    "# Tell me which language this is: \n",
    "# ```Tu kya thi aayo che lya?```\n",
    "# \"\"\"\n",
    "# response = get_completion(prompt)\n",
    "# print(response)"
   ]
  },
  {
   "cell_type": "code",
   "execution_count": 1,
   "metadata": {},
   "outputs": [],
   "source": [
    "# prompt = f\"\"\"\n",
    "# Translate the following text to Spanish in both the \\\n",
    "# formal and informal forms: \n",
    "# 'Would you like to order a pillow?'\n",
    "# \"\"\"\n",
    "# response = get_completion(prompt)\n",
    "# print(response)"
   ]
  },
  {
   "cell_type": "markdown",
   "metadata": {},
   "source": [
    "### Tone Translation"
   ]
  },
  {
   "cell_type": "code",
   "execution_count": 2,
   "metadata": {},
   "outputs": [],
   "source": [
    "# prompt = f\"\"\"\n",
    "# Translate the following from slang to a business letter: \n",
    "# 'Dude, This is Joe, check out this spec on this standing lamp.'\n",
    "# \"\"\"\n",
    "# response = get_completion(prompt)\n",
    "# print(response)"
   ]
  },
  {
   "cell_type": "markdown",
   "metadata": {},
   "source": [
    "### Format conversations"
   ]
  },
  {
   "cell_type": "code",
   "execution_count": 3,
   "metadata": {},
   "outputs": [],
   "source": [
    "# data_json = { \"resturant employees\" :[ \n",
    "#     {\"name\":\"Shyam\", \"email\":\"shyamjaiswal@gmail.com\"},\n",
    "#     {\"name\":\"Bob\", \"email\":\"bob32@gmail.com\"},\n",
    "#     {\"name\":\"Jai\", \"email\":\"jai87@gmail.com\"}\n",
    "# ]}\n",
    "\n",
    "# prompt = f\"\"\"\n",
    "# Translate the following python dictionary from JSON to an HTML \\\n",
    "# table with column headers and title: {data_json}\n",
    "# \"\"\"\n",
    "# response = get_completion(prompt)\n",
    "# print(response)"
   ]
  },
  {
   "cell_type": "markdown",
   "metadata": {},
   "source": [
    "### Speel check and grammar check"
   ]
  },
  {
   "cell_type": "code",
   "execution_count": null,
   "metadata": {},
   "outputs": [],
   "source": [
    "# text = f\"\"\"\n",
    "# Got this for my daughter for her birthday cuz she keeps taking \\\n",
    "# mine from my room.  Yes, adults also like pandas too.  She takes \\\n",
    "# it everywhere with her, and it's super soft and cute.  One of the \\\n",
    "# ears is a bit lower than the other, and I don't think that was \\\n",
    "# designed to be asymmetrical. It's a bit small for what I paid for it \\\n",
    "# though. I think there might be other options that are bigger for \\\n",
    "# the same price.  It arrived a day earlier than expected, so I got \\\n",
    "# to play with it myself before I gave it to my daughter.\n",
    "# \"\"\"\n",
    "# prompt = f\"proofread and correct this review: ```{text}```\"\n",
    "# response = get_completion(prompt)\n",
    "# print(response)"
   ]
  },
  {
   "cell_type": "code",
   "execution_count": 4,
   "metadata": {},
   "outputs": [],
   "source": [
    "# from redlines import Redlines\n",
    "\n",
    "# diff = Redlines(text,response)\n",
    "# display(Markdown(diff.output_markdown))"
   ]
  },
  {
   "cell_type": "code",
   "execution_count": 5,
   "metadata": {},
   "outputs": [],
   "source": [
    "# prompt = f\"\"\"\n",
    "# proofread and correct this review. Make it more compelling. \n",
    "# Ensure it follows APA style guide and targets an advanced reader. \n",
    "# Output in markdown format.\n",
    "# Text: ```{text}```\n",
    "# \"\"\"\n",
    "# response = get_completion(prompt)\n",
    "# display(Markdown(response))"
   ]
  },
  {
   "cell_type": "code",
   "execution_count": null,
   "metadata": {},
   "outputs": [],
   "source": []
  }
 ],
 "metadata": {
  "kernelspec": {
   "display_name": "base",
   "language": "python",
   "name": "python3"
  },
  "language_info": {
   "codemirror_mode": {
    "name": "ipython",
    "version": 3
   },
   "file_extension": ".py",
   "mimetype": "text/x-python",
   "name": "python",
   "nbconvert_exporter": "python",
   "pygments_lexer": "ipython3",
   "version": "3.9.13"
  },
  "orig_nbformat": 4
 },
 "nbformat": 4,
 "nbformat_minor": 2
}
